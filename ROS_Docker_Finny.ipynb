{
  "nbformat": 4,
  "nbformat_minor": 0,
  "metadata": {
    "colab": {
      "provenance": [],
      "authorship_tag": "ABX9TyMTvzxhVxesLr+2IBOAFkCA",
      "include_colab_link": true
    },
    "kernelspec": {
      "name": "python3",
      "display_name": "Python 3"
    },
    "language_info": {
      "name": "python"
    }
  },
  "cells": [
    {
      "cell_type": "markdown",
      "metadata": {
        "id": "view-in-github",
        "colab_type": "text"
      },
      "source": [
        "<a href=\"https://colab.research.google.com/github/SpaceSapiens/Code-Explorer/blob/Study/ROS_Docker_Finny.ipynb\" target=\"_parent\"><img src=\"https://colab.research.google.com/assets/colab-badge.svg\" alt=\"Open In Colab\"/></a>"
      ]
    },
    {
      "cell_type": "markdown",
      "source": [
        "##Follow the steps to run the ros in windows\n",
        "\n",
        "Reference: https://www.youtube.com/watch?time_continue=517&v=qWuudNxFGOQ&embeds_referring_euri=http%3A%2F%2Fwiki.ros.org%2F&feature=emb_title\n",
        "\n",
        "Link: http://wiki.ros.org/docker/Tutorials/Docker"
      ],
      "metadata": {
        "id": "-R97Af9-YAB2"
      }
    },
    {
      "cell_type": "markdown",
      "source": [
        "Run Docker image"
      ],
      "metadata": {
        "id": "GFBuVLKiYXot"
      }
    },
    {
      "cell_type": "code",
      "execution_count": null,
      "metadata": {
        "id": "Y6PdWhGyX7LW"
      },
      "outputs": [],
      "source": [
        "docker run -it osrf/ros:noetic-desktop-full"
      ]
    },
    {
      "cell_type": "markdown",
      "source": [
        "Start ROS Core"
      ],
      "metadata": {
        "id": "GFHcGqCMYlDd"
      }
    },
    {
      "cell_type": "code",
      "source": [
        "roscore"
      ],
      "metadata": {
        "id": "KPsBPXUXYrOH"
      },
      "execution_count": null,
      "outputs": []
    },
    {
      "cell_type": "code",
      "source": [],
      "metadata": {
        "id": "JJ1NC_YqYw08"
      },
      "execution_count": null,
      "outputs": []
    }
  ]
}